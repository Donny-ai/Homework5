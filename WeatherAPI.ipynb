{
 "cells": [
  {
   "cell_type": "code",
   "execution_count": 20,
   "id": "ed611d9d",
   "metadata": {},
   "outputs": [],
   "source": [
    "# Dependencies and Setup\n",
    "import matplotlib.pyplot as plt\n",
    "import pandas as pd\n",
    "import numpy as np\n",
    "import requests\n",
    "import time\n",
    "from pathlib import Path\n",
    "import json\n",
    "import random\n",
    "\n",
    "# Import API key\n",
    "from api_keys import owm\n",
    "\n",
    "# Incorporated citipy to determine city based on latitude and longitude\n",
    "from citipy import citipy\n",
    "\n",
    "# Output File (CSV)\n",
    "output_data_file = \"output_data/cities.csv\"\n",
    "\n",
    "# Range of latitudes and longitudes\n",
    "lat_range = (-90, 90)\n",
    "lng_range = (-180, 180)"
   ]
  },
  {
   "cell_type": "code",
   "execution_count": 45,
   "id": "ca95dac6",
   "metadata": {},
   "outputs": [],
   "source": [
    "# Generate a random integer within the ranges\n",
    "# lat = x long = y\n",
    "def rand_lat():\n",
    "    lat = random.randint(lat_range[0], lat_range[1])\n",
    "    return lat\n",
    "\n",
    "def rand_lng():\n",
    "    lng = random.randint(lng_range[0], lng_range[1])\n",
    "    return lng"
   ]
  },
  {
   "cell_type": "code",
   "execution_count": 71,
   "id": "feb950e2",
   "metadata": {},
   "outputs": [],
   "source": [
    "# Define a function to generate a city from the random coordinates, in the format of a list with country code, lat and lng\n",
    "def rand_city():\n",
    "    x = rand_lat()\n",
    "    y = rand_lng()\n",
    "    city_code = citipy.nearest_city(x, y)\n",
    "    city = city_code.city_name\n",
    "    country = city_code.country_code\n",
    "    output = [city, country, x, y]\n",
    "    return output"
   ]
  },
  {
   "cell_type": "code",
   "execution_count": 72,
   "id": "6ce281b9",
   "metadata": {},
   "outputs": [
    {
     "data": {
      "text/plain": [
       "['isafjordur', 'is', 70, -30]"
      ]
     },
     "execution_count": 72,
     "metadata": {},
     "output_type": "execute_result"
    }
   ],
   "source": [
    "rand_city()"
   ]
  },
  {
   "cell_type": "code",
   "execution_count": 91,
   "id": "56ad5b50",
   "metadata": {
    "jupyter": {
     "source_hidden": true
    }
   },
   "outputs": [
    {
     "data": {
      "text/html": [
       "<div>\n",
       "<style scoped>\n",
       "    .dataframe tbody tr th:only-of-type {\n",
       "        vertical-align: middle;\n",
       "    }\n",
       "\n",
       "    .dataframe tbody tr th {\n",
       "        vertical-align: top;\n",
       "    }\n",
       "\n",
       "    .dataframe thead th {\n",
       "        text-align: right;\n",
       "    }\n",
       "</style>\n",
       "<table border=\"1\" class=\"dataframe\">\n",
       "  <thead>\n",
       "    <tr style=\"text-align: right;\">\n",
       "      <th></th>\n",
       "      <th>City</th>\n",
       "      <th>Country</th>\n",
       "      <th>Latitude</th>\n",
       "      <th>Longitude</th>\n",
       "    </tr>\n",
       "  </thead>\n",
       "  <tbody>\n",
       "    <tr>\n",
       "      <th>0</th>\n",
       "      <td>qui nhon</td>\n",
       "      <td>vn</td>\n",
       "      <td>14</td>\n",
       "      <td>109</td>\n",
       "    </tr>\n",
       "    <tr>\n",
       "      <th>1</th>\n",
       "      <td>kavaratti</td>\n",
       "      <td>in</td>\n",
       "      <td>11</td>\n",
       "      <td>64</td>\n",
       "    </tr>\n",
       "    <tr>\n",
       "      <th>2</th>\n",
       "      <td>isafjordur</td>\n",
       "      <td>is</td>\n",
       "      <td>65</td>\n",
       "      <td>-26</td>\n",
       "    </tr>\n",
       "    <tr>\n",
       "      <th>3</th>\n",
       "      <td>happy valley-goose bay</td>\n",
       "      <td>ca</td>\n",
       "      <td>55</td>\n",
       "      <td>-57</td>\n",
       "    </tr>\n",
       "    <tr>\n",
       "      <th>4</th>\n",
       "      <td>mejit</td>\n",
       "      <td>mh</td>\n",
       "      <td>12</td>\n",
       "      <td>178</td>\n",
       "    </tr>\n",
       "  </tbody>\n",
       "</table>\n",
       "</div>"
      ],
      "text/plain": [
       "                     City Country  Latitude  Longitude\n",
       "0                qui nhon      vn        14        109\n",
       "1               kavaratti      in        11         64\n",
       "2              isafjordur      is        65        -26\n",
       "3  happy valley-goose bay      ca        55        -57\n",
       "4                   mejit      mh        12        178"
      ]
     },
     "execution_count": 91,
     "metadata": {},
     "output_type": "execute_result"
    }
   ],
   "source": [
    "# Creating an empty dictionary to build the dataframe with\n",
    "dict = {\n",
    "    'City': [],\n",
    "    'Country': [],\n",
    "    'Latitude': [],\n",
    "    'Longitude': []\n",
    "}\n",
    "# For loop to fill the dictionary with 500 cities\n",
    "rows = 500\n",
    "for i in range(rows):\n",
    "    city_list = rand_city()\n",
    "    if city_list[0] in dict['City']:\n",
    "        \n",
    "        continue\n",
    "    dict['City'].append(city_list[0])\n",
    "    dict['Country'].append(city_list[1])\n",
    "    dict['Latitude'].append(city_list[2])\n",
    "    dict['Longitude'].append(city_list[3])\n",
    "# Turning the dictionary into a dataframe\n",
    "city_df = pd.DataFrame(dict)\n",
    "city_df.head()"
   ]
  },
  {
   "cell_type": "code",
   "execution_count": 95,
   "id": "038ed1a2",
   "metadata": {},
   "outputs": [
    {
     "data": {
      "text/html": [
       "<div>\n",
       "<style scoped>\n",
       "    .dataframe tbody tr th:only-of-type {\n",
       "        vertical-align: middle;\n",
       "    }\n",
       "\n",
       "    .dataframe tbody tr th {\n",
       "        vertical-align: top;\n",
       "    }\n",
       "\n",
       "    .dataframe thead th {\n",
       "        text-align: right;\n",
       "    }\n",
       "</style>\n",
       "<table border=\"1\" class=\"dataframe\">\n",
       "  <thead>\n",
       "    <tr style=\"text-align: right;\">\n",
       "      <th></th>\n",
       "      <th>City</th>\n",
       "      <th>Country</th>\n",
       "      <th>Latitude</th>\n",
       "      <th>Longitude</th>\n",
       "    </tr>\n",
       "  </thead>\n",
       "  <tbody>\n",
       "    <tr>\n",
       "      <th>0</th>\n",
       "      <td>fuerte olimpo</td>\n",
       "      <td>py</td>\n",
       "      <td>-21</td>\n",
       "      <td>-58</td>\n",
       "    </tr>\n",
       "    <tr>\n",
       "      <th>1</th>\n",
       "      <td>lamu</td>\n",
       "      <td>ke</td>\n",
       "      <td>-5</td>\n",
       "      <td>45</td>\n",
       "    </tr>\n",
       "    <tr>\n",
       "      <th>2</th>\n",
       "      <td>san pedro pochutla</td>\n",
       "      <td>mx</td>\n",
       "      <td>10</td>\n",
       "      <td>-97</td>\n",
       "    </tr>\n",
       "    <tr>\n",
       "      <th>3</th>\n",
       "      <td>longyearbyen</td>\n",
       "      <td>sj</td>\n",
       "      <td>90</td>\n",
       "      <td>3</td>\n",
       "    </tr>\n",
       "    <tr>\n",
       "      <th>4</th>\n",
       "      <td>port-aux-francais</td>\n",
       "      <td>tf</td>\n",
       "      <td>-84</td>\n",
       "      <td>76</td>\n",
       "    </tr>\n",
       "  </tbody>\n",
       "</table>\n",
       "</div>"
      ],
      "text/plain": [
       "                 City Country  Latitude  Longitude\n",
       "0       fuerte olimpo      py       -21        -58\n",
       "1                lamu      ke        -5         45\n",
       "2  san pedro pochutla      mx        10        -97\n",
       "3        longyearbyen      sj        90          3\n",
       "4   port-aux-francais      tf       -84         76"
      ]
     },
     "execution_count": 95,
     "metadata": {},
     "output_type": "execute_result"
    }
   ],
   "source": [
    "# Creating an empty dictionary to build the dataframe with\n",
    "dict = {\n",
    "    'City': [],\n",
    "    'Country': [],\n",
    "    'Latitude': [],\n",
    "    'Longitude': []\n",
    "}\n",
    "# While loop to fill the dictionary with 500 cities\n",
    "rows = 0\n",
    "while rows < 500:\n",
    "    city_list = rand_city()\n",
    "    if city_list[0] in dict['City']:\n",
    "        continue\n",
    "    dict['City'].append(city_list[0])\n",
    "    dict['Country'].append(city_list[1])\n",
    "    dict['Latitude'].append(city_list[2])\n",
    "    dict['Longitude'].append(city_list[3])\n",
    "    rows += 1\n",
    "# Turning the dictionary into a dataframe\n",
    "city_df = pd.DataFrame(dict)\n",
    "city_df.head()"
   ]
  },
  {
   "cell_type": "code",
   "execution_count": 96,
   "id": "3f3d2681",
   "metadata": {},
   "outputs": [],
   "source": [
    "city_df.to_csv('output_data/WeatherAPI_Cities.csv', index=False, mode='w')"
   ]
  },
  {
   "cell_type": "code",
   "execution_count": null,
   "id": "e3e82452",
   "metadata": {},
   "outputs": [],
   "source": []
  }
 ],
 "metadata": {
  "kernelspec": {
   "display_name": "Python [conda env:pyvizenv] *",
   "language": "python",
   "name": "conda-env-pyvizenv-py"
  },
  "language_info": {
   "codemirror_mode": {
    "name": "ipython",
    "version": 3
   },
   "file_extension": ".py",
   "mimetype": "text/x-python",
   "name": "python",
   "nbconvert_exporter": "python",
   "pygments_lexer": "ipython3",
   "version": "3.7.13"
  }
 },
 "nbformat": 4,
 "nbformat_minor": 5
}
